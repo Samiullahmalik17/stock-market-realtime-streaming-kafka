{
 "cells": [
  {
   "cell_type": "code",
   "execution_count": null,
   "id": "b6675043",
   "metadata": {},
   "outputs": [],
   "source": [
    "from kafka import KafkaConsumer\n",
    "from time import sleep\n",
    "from json import dumps, loads\n",
    "import json\n",
    "from s3fs import S3FileSystem"
   ]
  },
  {
   "cell_type": "code",
   "execution_count": null,
   "id": "9eeff3ef",
   "metadata": {},
   "outputs": [],
   "source": [
    "consumer = KafkaConsumer(\n",
    "    'demotest',\n",
    "    bootstrap_servers=['localhost:9092'],  # add your IP here\n",
    "    value_deserializer=lambda x: loads(x.decode('utf-8')))"
   ]
  },
  {
   "cell_type": "code",
   "execution_count": null,
   "id": "eda5a608",
   "metadata": {},
   "outputs": [],
   "source": [
    "for c in consumer:\n",
    "    print(c.value)"
   ]
  },
  {
   "cell_type": "code",
   "execution_count": null,
   "id": "6978b9e7",
   "metadata": {},
   "outputs": [],
   "source": []
  },
  {
   "cell_type": "code",
   "execution_count": null,
   "id": "fd0b5f8c",
   "metadata": {},
   "outputs": [],
   "source": [
    "pip install mysql.connector"
   ]
  },
  {
   "cell_type": "code",
   "execution_count": null,
   "id": "a659f90e",
   "metadata": {},
   "outputs": [],
   "source": [
    "import mysql.connector\n",
    "from kafka import KafkaConsumer\n",
    "import json\n",
    "\n",
    "# Define your MySQL database credentials\n",
    "db_config = {\n",
    "    \"host\": \"localhost\",\n",
    "    \"user\": \"root\",\n",
    "    \"password\": \"\",\n",
    "    \"database\": \"stockx_db\"\n",
    "}\n",
    "\n",
    "# Create a connection to the MySQL database\n",
    "connection = mysql.connector.connect(**db_config)\n",
    "cursor = connection.cursor()\n",
    "\n",
    "# Create a Kafka consumer\n",
    "consumer = KafkaConsumer(\n",
    "    'demotest',\n",
    "    bootstrap_servers=['localhost:9092'],\n",
    "    value_deserializer=lambda x: json.loads(x.decode('utf-8'))\n",
    ")\n",
    "\n",
    "for count, message in enumerate(consumer):\n",
    "    data = message.value\n",
    "\n",
    "    # Insert data into the MySQL table\n",
    "    insert_query = \"INSERT INTO StockData (`Index`, `Date`, `Open`, `High`, `Low`, `Close`, `Adj_Close`, `Volume`, `CloseUSD`) VALUES (%s, %s, %s, %s, %s, %s, %s, %s, %s)\"\n",
    "    values = (data['Index'], data['Date'], data['Open'], data['High'], data['Low'],\n",
    "              data['Close'], data['Adj Close'], data['Volume'], data['CloseUSD'])\n",
    "    cursor.execute(insert_query, values)\n",
    "    connection.commit()\n",
    "\n",
    "cursor.close()\n",
    "connection.close()"
   ]
  }
 ],
 "metadata": {
  "kernelspec": {
   "display_name": "Python 3 (ipykernel)",
   "language": "python",
   "name": "python3"
  },
  "language_info": {
   "codemirror_mode": {
    "name": "ipython",
    "version": 3
   },
   "file_extension": ".py",
   "mimetype": "text/x-python",
   "name": "python",
   "nbconvert_exporter": "python",
   "pygments_lexer": "ipython3",
   "version": "3.10.12"
  }
 },
 "nbformat": 4,
 "nbformat_minor": 5
}
